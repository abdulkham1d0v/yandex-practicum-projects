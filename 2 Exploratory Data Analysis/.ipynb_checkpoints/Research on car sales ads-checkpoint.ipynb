{
 "cells": [
  {
   "cell_type": "markdown",
   "metadata": {},
   "source": [
    "# Research on car sales ads\n",
    "\n",
    "You're an analyst at Crankshaft List. Hundreds of free advertisements for vehicles are published on your site every day.\n",
    "\n",
    "You need to study data collected over the last few years and determine which factors influence the price of a vehicle. "
   ]
  },
  {
   "cell_type": "markdown",
   "metadata": {},
   "source": [
    "### About project:\n",
    "The aim of the project finding a factors that will influence price of the vehicles, according to data which is given us. To realize this we should stick to this plan:\n",
    "1. Open the data file and study the general information. \n",
    "2. Data preprocessing\n",
    "3. Make calculations and add them to the table\n",
    "4. Carry out exploratory data analysis\n",
    "5. Overall conclusion"
   ]
  },
  {
   "cell_type": "markdown",
   "metadata": {},
   "source": [
    "### Step 1. Open the data file and study the general information. "
   ]
  },
  {
   "cell_type": "code",
   "execution_count": 1,
   "metadata": {},
   "outputs": [
    {
     "name": "stdout",
     "output_type": "stream",
     "text": [
      "<class 'pandas.core.frame.DataFrame'>\n",
      "RangeIndex: 51525 entries, 0 to 51524\n",
      "Data columns (total 13 columns):\n",
      "price           51525 non-null int64\n",
      "model_year      47906 non-null float64\n",
      "model           51525 non-null object\n",
      "condition       51525 non-null object\n",
      "cylinders       46265 non-null float64\n",
      "fuel            51525 non-null object\n",
      "odometer        43633 non-null float64\n",
      "transmission    51525 non-null object\n",
      "type            51525 non-null object\n",
      "paint_color     42258 non-null object\n",
      "is_4wd          25572 non-null float64\n",
      "date_posted     51525 non-null object\n",
      "days_listed     51525 non-null int64\n",
      "dtypes: float64(4), int64(2), object(7)\n",
      "memory usage: 5.1+ MB\n",
      "None\n"
     ]
    },
    {
     "data": {
      "text/html": [
       "<div>\n",
       "<style scoped>\n",
       "    .dataframe tbody tr th:only-of-type {\n",
       "        vertical-align: middle;\n",
       "    }\n",
       "\n",
       "    .dataframe tbody tr th {\n",
       "        vertical-align: top;\n",
       "    }\n",
       "\n",
       "    .dataframe thead th {\n",
       "        text-align: right;\n",
       "    }\n",
       "</style>\n",
       "<table border=\"1\" class=\"dataframe\">\n",
       "  <thead>\n",
       "    <tr style=\"text-align: right;\">\n",
       "      <th></th>\n",
       "      <th>price</th>\n",
       "      <th>model_year</th>\n",
       "      <th>model</th>\n",
       "      <th>condition</th>\n",
       "      <th>cylinders</th>\n",
       "      <th>fuel</th>\n",
       "      <th>odometer</th>\n",
       "      <th>transmission</th>\n",
       "      <th>type</th>\n",
       "      <th>paint_color</th>\n",
       "      <th>is_4wd</th>\n",
       "      <th>date_posted</th>\n",
       "      <th>days_listed</th>\n",
       "    </tr>\n",
       "  </thead>\n",
       "  <tbody>\n",
       "    <tr>\n",
       "      <td>0</td>\n",
       "      <td>9400</td>\n",
       "      <td>2011.0</td>\n",
       "      <td>bmw x5</td>\n",
       "      <td>good</td>\n",
       "      <td>6.0</td>\n",
       "      <td>gas</td>\n",
       "      <td>145000.0</td>\n",
       "      <td>automatic</td>\n",
       "      <td>SUV</td>\n",
       "      <td>NaN</td>\n",
       "      <td>1.0</td>\n",
       "      <td>2018-06-23</td>\n",
       "      <td>19</td>\n",
       "    </tr>\n",
       "    <tr>\n",
       "      <td>1</td>\n",
       "      <td>25500</td>\n",
       "      <td>NaN</td>\n",
       "      <td>ford f-150</td>\n",
       "      <td>good</td>\n",
       "      <td>6.0</td>\n",
       "      <td>gas</td>\n",
       "      <td>88705.0</td>\n",
       "      <td>automatic</td>\n",
       "      <td>pickup</td>\n",
       "      <td>white</td>\n",
       "      <td>1.0</td>\n",
       "      <td>2018-10-19</td>\n",
       "      <td>50</td>\n",
       "    </tr>\n",
       "    <tr>\n",
       "      <td>2</td>\n",
       "      <td>5500</td>\n",
       "      <td>2013.0</td>\n",
       "      <td>hyundai sonata</td>\n",
       "      <td>like new</td>\n",
       "      <td>4.0</td>\n",
       "      <td>gas</td>\n",
       "      <td>110000.0</td>\n",
       "      <td>automatic</td>\n",
       "      <td>sedan</td>\n",
       "      <td>red</td>\n",
       "      <td>NaN</td>\n",
       "      <td>2019-02-07</td>\n",
       "      <td>79</td>\n",
       "    </tr>\n",
       "    <tr>\n",
       "      <td>3</td>\n",
       "      <td>1500</td>\n",
       "      <td>2003.0</td>\n",
       "      <td>ford f-150</td>\n",
       "      <td>fair</td>\n",
       "      <td>8.0</td>\n",
       "      <td>gas</td>\n",
       "      <td>NaN</td>\n",
       "      <td>automatic</td>\n",
       "      <td>pickup</td>\n",
       "      <td>NaN</td>\n",
       "      <td>NaN</td>\n",
       "      <td>2019-03-22</td>\n",
       "      <td>9</td>\n",
       "    </tr>\n",
       "    <tr>\n",
       "      <td>4</td>\n",
       "      <td>14900</td>\n",
       "      <td>2017.0</td>\n",
       "      <td>chrysler 200</td>\n",
       "      <td>excellent</td>\n",
       "      <td>4.0</td>\n",
       "      <td>gas</td>\n",
       "      <td>80903.0</td>\n",
       "      <td>automatic</td>\n",
       "      <td>sedan</td>\n",
       "      <td>black</td>\n",
       "      <td>NaN</td>\n",
       "      <td>2019-04-02</td>\n",
       "      <td>28</td>\n",
       "    </tr>\n",
       "  </tbody>\n",
       "</table>\n",
       "</div>"
      ],
      "text/plain": [
       "   price  model_year           model  condition  cylinders fuel  odometer  \\\n",
       "0   9400      2011.0          bmw x5       good        6.0  gas  145000.0   \n",
       "1  25500         NaN      ford f-150       good        6.0  gas   88705.0   \n",
       "2   5500      2013.0  hyundai sonata   like new        4.0  gas  110000.0   \n",
       "3   1500      2003.0      ford f-150       fair        8.0  gas       NaN   \n",
       "4  14900      2017.0    chrysler 200  excellent        4.0  gas   80903.0   \n",
       "\n",
       "  transmission    type paint_color  is_4wd date_posted  days_listed  \n",
       "0    automatic     SUV         NaN     1.0  2018-06-23           19  \n",
       "1    automatic  pickup       white     1.0  2018-10-19           50  \n",
       "2    automatic   sedan         red     NaN  2019-02-07           79  \n",
       "3    automatic  pickup         NaN     NaN  2019-03-22            9  \n",
       "4    automatic   sedan       black     NaN  2019-04-02           28  "
      ]
     },
     "execution_count": 1,
     "metadata": {},
     "output_type": "execute_result"
    }
   ],
   "source": [
    "import pandas as pd\n",
    "import matplotlib.pyplot as plt\n",
    "data = pd.read_csv('/datasets/vehicles_us.csv')\n",
    "print(data.info())\n",
    "data.head()"
   ]
  },
  {
   "cell_type": "markdown",
   "metadata": {},
   "source": [
    "### Conclusion"
   ]
  },
  {
   "cell_type": "markdown",
   "metadata": {},
   "source": [
    "This is a first stage of our project. We have opened the file by `read_csv()` method. And we used `info()` and `head()` methods to explore the data. As wee see, there are missing values on some columns. Later we will work with this values. \n"
   ]
  },
  {
   "cell_type": "markdown",
   "metadata": {},
   "source": [
    "### Step 2. Data preprocessing"
   ]
  },
  {
   "cell_type": "code",
   "execution_count": 2,
   "metadata": {},
   "outputs": [
    {
     "name": "stdout",
     "output_type": "stream",
     "text": [
      "The sum of missing values of the \"model_year\" column: 3619\n",
      "The sum of missing values of the \"cylinders\" column: 5260\n",
      "The sum of missing values of the \"odometer\" column: 7892\n",
      "The sum of missing values of the \"paint_color\" column: 9267\n",
      "The sum of missing values of the \"is_4wd\" column: 25953\n",
      "Unique values of the \"model_year\" column: [2011.   nan 2013. 2003. 2017. 2014. 2015. 2012. 2008. 2018. 2009. 2010.\n",
      " 2007. 2004. 2005. 2001. 2006. 1966. 1994. 2019. 2000. 2016. 1993. 1999.\n",
      " 1997. 2002. 1981. 1995. 1996. 1975. 1998. 1985. 1977. 1987. 1974. 1990.\n",
      " 1992. 1991. 1972. 1967. 1988. 1969. 1989. 1978. 1965. 1979. 1968. 1986.\n",
      " 1980. 1964. 1963. 1984. 1982. 1973. 1970. 1955. 1971. 1976. 1983. 1954.\n",
      " 1962. 1948. 1960. 1908. 1961. 1936. 1949. 1958. 1929.]\n",
      "Unique of missing values of the \"cylinders\" column: [ 6.  4.  8. nan  5. 10.  3. 12.]\n",
      "Unique of missing values of the \"odometer\" column: [145000.  88705. 110000. ... 121778. 181500. 139573.]\n",
      "Unique of missing values of the \"paint_color\" column: [nan 'white' 'red' 'black' 'blue' 'grey' 'silver' 'custom' 'orange'\n",
      " 'yellow' 'brown' 'green' 'purple']\n",
      "Unique of missing values of the \"is_4wd\" column: [ 1. nan]\n",
      "<class 'pandas.core.frame.DataFrame'>\n",
      "RangeIndex: 51525 entries, 0 to 51524\n",
      "Data columns (total 13 columns):\n",
      "price           51525 non-null int64\n",
      "model_year      51525 non-null int64\n",
      "model           51525 non-null object\n",
      "condition       51525 non-null object\n",
      "cylinders       51525 non-null int64\n",
      "fuel            51525 non-null object\n",
      "odometer        51525 non-null int64\n",
      "transmission    51525 non-null object\n",
      "type            51525 non-null object\n",
      "paint_color     42258 non-null object\n",
      "is_4wd          51525 non-null int64\n",
      "date_posted     51525 non-null datetime64[ns]\n",
      "days_listed     51525 non-null int64\n",
      "dtypes: datetime64[ns](1), int64(6), object(6)\n",
      "memory usage: 5.1+ MB\n"
     ]
    }
   ],
   "source": [
    "#looking for missing values\n",
    "print('The sum of missing values of the \"model_year\" column:', data['model_year'].isna().sum())\n",
    "print('The sum of missing values of the \"cylinders\" column:', data['cylinders'].isna().sum())\n",
    "print('The sum of missing values of the \"odometer\" column:', data['odometer'].isna().sum())\n",
    "print('The sum of missing values of the \"paint_color\" column:', data['paint_color'].isna().sum())\n",
    "print('The sum of missing values of the \"is_4wd\" column:', data['is_4wd'].isna().sum())\n",
    "#Looking for unique elements in missing values\n",
    "print('Unique values of the \"model_year\" column:', data['model_year'].unique())\n",
    "print('Unique of missing values of the \"cylinders\" column:', data['cylinders'].unique())\n",
    "print('Unique of missing values of the \"odometer\" column:', data['odometer'].unique())\n",
    "print('Unique of missing values of the \"paint_color\" column:', data['paint_color'].unique())\n",
    "print('Unique of missing values of the \"is_4wd\" column:', data['is_4wd'].unique())\n",
    "#Handling missing values\n",
    "data['is_4wd'] = data['is_4wd'].fillna(0)\n",
    "data['cylinders'] = data['cylinders'].fillna(data['cylinders'].median())\n",
    "data['model_year'] = data['model_year'].fillna(data['model_year'].median())\n",
    "data['odometer'] = data['odometer'].fillna(data['odometer'].median())\n",
    "#Changing data types\n",
    "data['model_year'] = data['model_year'].astype('int')\n",
    "data['cylinders'] = data['cylinders'].astype('int')\n",
    "data['is_4wd'] = data['is_4wd'].astype('int')\n",
    "data['odometer'] = data['odometer'].astype('int')\n",
    "data['date_posted'] = pd.to_datetime(data['date_posted'],format = '%Y-%m-%d')\n",
    "#Checking for the changes that we have done\n",
    "data.info()"
   ]
  },
  {
   "cell_type": "markdown",
   "metadata": {},
   "source": [
    "### Conclusion"
   ]
  },
  {
   "cell_type": "markdown",
   "metadata": {},
   "source": [
    "In this stage we have defined missing values and filled some of them. We filled `is_4wd` column with 0 values. Because, there is no other values and value is equal to which means True, in our case 0 means False. We  filled other values with median of all columns. The aim of filling of the missing values with `median` to avoid affecting of outlier.  So we filled this values to make better conclusions.We also had a one alternate variant `drop`, but `20%` of the data is quite bit. We used `astype()` method for changing data type to `int`. We changed this values to make our calculations easier "
   ]
  },
  {
   "cell_type": "markdown",
   "metadata": {},
   "source": [
    "### Step 3. Make calculations and add them to the table"
   ]
  },
  {
   "cell_type": "code",
   "execution_count": 3,
   "metadata": {},
   "outputs": [
    {
     "data": {
      "text/html": [
       "<div>\n",
       "<style scoped>\n",
       "    .dataframe tbody tr th:only-of-type {\n",
       "        vertical-align: middle;\n",
       "    }\n",
       "\n",
       "    .dataframe tbody tr th {\n",
       "        vertical-align: top;\n",
       "    }\n",
       "\n",
       "    .dataframe thead th {\n",
       "        text-align: right;\n",
       "    }\n",
       "</style>\n",
       "<table border=\"1\" class=\"dataframe\">\n",
       "  <thead>\n",
       "    <tr style=\"text-align: right;\">\n",
       "      <th></th>\n",
       "      <th>price</th>\n",
       "      <th>model_year</th>\n",
       "      <th>model</th>\n",
       "      <th>condition</th>\n",
       "      <th>cylinders</th>\n",
       "      <th>fuel</th>\n",
       "      <th>odometer</th>\n",
       "      <th>transmission</th>\n",
       "      <th>type</th>\n",
       "      <th>paint_color</th>\n",
       "      <th>is_4wd</th>\n",
       "      <th>date_posted</th>\n",
       "      <th>days_listed</th>\n",
       "      <th>weekday</th>\n",
       "      <th>month</th>\n",
       "      <th>year</th>\n",
       "      <th>age</th>\n",
       "      <th>avg_mileage</th>\n",
       "    </tr>\n",
       "  </thead>\n",
       "  <tbody>\n",
       "    <tr>\n",
       "      <td>0</td>\n",
       "      <td>9400</td>\n",
       "      <td>2011</td>\n",
       "      <td>bmw x5</td>\n",
       "      <td>2</td>\n",
       "      <td>6</td>\n",
       "      <td>gas</td>\n",
       "      <td>145000</td>\n",
       "      <td>automatic</td>\n",
       "      <td>SUV</td>\n",
       "      <td>NaN</td>\n",
       "      <td>1</td>\n",
       "      <td>2018-06-23</td>\n",
       "      <td>19</td>\n",
       "      <td>5</td>\n",
       "      <td>6</td>\n",
       "      <td>2018</td>\n",
       "      <td>7</td>\n",
       "      <td>20714.0</td>\n",
       "    </tr>\n",
       "    <tr>\n",
       "      <td>1</td>\n",
       "      <td>25500</td>\n",
       "      <td>2011</td>\n",
       "      <td>ford f-150</td>\n",
       "      <td>2</td>\n",
       "      <td>6</td>\n",
       "      <td>gas</td>\n",
       "      <td>88705</td>\n",
       "      <td>automatic</td>\n",
       "      <td>pickup</td>\n",
       "      <td>white</td>\n",
       "      <td>1</td>\n",
       "      <td>2018-10-19</td>\n",
       "      <td>50</td>\n",
       "      <td>4</td>\n",
       "      <td>10</td>\n",
       "      <td>2018</td>\n",
       "      <td>7</td>\n",
       "      <td>12672.0</td>\n",
       "    </tr>\n",
       "    <tr>\n",
       "      <td>2</td>\n",
       "      <td>5500</td>\n",
       "      <td>2013</td>\n",
       "      <td>hyundai sonata</td>\n",
       "      <td>4</td>\n",
       "      <td>4</td>\n",
       "      <td>gas</td>\n",
       "      <td>110000</td>\n",
       "      <td>automatic</td>\n",
       "      <td>sedan</td>\n",
       "      <td>red</td>\n",
       "      <td>0</td>\n",
       "      <td>2019-02-07</td>\n",
       "      <td>79</td>\n",
       "      <td>3</td>\n",
       "      <td>2</td>\n",
       "      <td>2019</td>\n",
       "      <td>6</td>\n",
       "      <td>18333.0</td>\n",
       "    </tr>\n",
       "    <tr>\n",
       "      <td>3</td>\n",
       "      <td>1500</td>\n",
       "      <td>2003</td>\n",
       "      <td>ford f-150</td>\n",
       "      <td>1</td>\n",
       "      <td>8</td>\n",
       "      <td>gas</td>\n",
       "      <td>113000</td>\n",
       "      <td>automatic</td>\n",
       "      <td>pickup</td>\n",
       "      <td>NaN</td>\n",
       "      <td>0</td>\n",
       "      <td>2019-03-22</td>\n",
       "      <td>9</td>\n",
       "      <td>4</td>\n",
       "      <td>3</td>\n",
       "      <td>2019</td>\n",
       "      <td>16</td>\n",
       "      <td>7062.0</td>\n",
       "    </tr>\n",
       "    <tr>\n",
       "      <td>4</td>\n",
       "      <td>14900</td>\n",
       "      <td>2017</td>\n",
       "      <td>chrysler 200</td>\n",
       "      <td>3</td>\n",
       "      <td>4</td>\n",
       "      <td>gas</td>\n",
       "      <td>80903</td>\n",
       "      <td>automatic</td>\n",
       "      <td>sedan</td>\n",
       "      <td>black</td>\n",
       "      <td>0</td>\n",
       "      <td>2019-04-02</td>\n",
       "      <td>28</td>\n",
       "      <td>1</td>\n",
       "      <td>4</td>\n",
       "      <td>2019</td>\n",
       "      <td>2</td>\n",
       "      <td>40452.0</td>\n",
       "    </tr>\n",
       "  </tbody>\n",
       "</table>\n",
       "</div>"
      ],
      "text/plain": [
       "   price  model_year           model  condition  cylinders fuel  odometer  \\\n",
       "0   9400        2011          bmw x5          2          6  gas    145000   \n",
       "1  25500        2011      ford f-150          2          6  gas     88705   \n",
       "2   5500        2013  hyundai sonata          4          4  gas    110000   \n",
       "3   1500        2003      ford f-150          1          8  gas    113000   \n",
       "4  14900        2017    chrysler 200          3          4  gas     80903   \n",
       "\n",
       "  transmission    type paint_color  is_4wd date_posted  days_listed  weekday  \\\n",
       "0    automatic     SUV         NaN       1  2018-06-23           19        5   \n",
       "1    automatic  pickup       white       1  2018-10-19           50        4   \n",
       "2    automatic   sedan         red       0  2019-02-07           79        3   \n",
       "3    automatic  pickup         NaN       0  2019-03-22            9        4   \n",
       "4    automatic   sedan       black       0  2019-04-02           28        1   \n",
       "\n",
       "   month  year  age  avg_mileage  \n",
       "0      6  2018    7      20714.0  \n",
       "1     10  2018    7      12672.0  \n",
       "2      2  2019    6      18333.0  \n",
       "3      3  2019   16       7062.0  \n",
       "4      4  2019    2      40452.0  "
      ]
     },
     "execution_count": 3,
     "metadata": {},
     "output_type": "execute_result"
    }
   ],
   "source": [
    "#Investigating new values from the data\n",
    "data['weekday'] = data['date_posted'].dt.weekday\n",
    "data['month'] = data['date_posted'].dt.month\n",
    "data['year'] = data['date_posted'].dt.year\n",
    "data['age'] = (data['year'] - data['model_year']).astype(int)\n",
    "data['avg_mileage'] = round(data['odometer'] / pd.to_numeric(data['age']))\n",
    "data['condition'] = data['condition'].replace({'new': 5,'like new': 4,'excellent': 3,'good': 2,'fair': 1,'salvage': 0})\n",
    "data['condition'] = pd.to_numeric(data['condition']).astype(int)\n",
    "#Checking job for done\n",
    "data.head()"
   ]
  },
  {
   "cell_type": "markdown",
   "metadata": {},
   "source": [
    "### Conclusion"
   ]
  },
  {
   "cell_type": "markdown",
   "metadata": {},
   "source": [
    "In this step we investigated new values from existing data. And for changing conditions with numbers instead of words we used `replace()` method."
   ]
  },
  {
   "cell_type": "markdown",
   "metadata": {},
   "source": [
    "### Step 4. Carry out exploratory data analysis"
   ]
  },
  {
   "cell_type": "code",
   "execution_count": 4,
   "metadata": {},
   "outputs": [
    {
     "data": {
      "image/png": "[encoded data removed]",
      "text/plain": [
       "<Figure size 432x288 with 1 Axes>"
      ]
     },
     "metadata": {
      "needs_background": "light"
     },
     "output_type": "display_data"
    },
    {
     "data": {
      "image/png": "[encoded data removed]",
      "text/plain": [
       "<Figure size 432x288 with 1 Axes>"
      ]
     },
     "metadata": {
      "needs_background": "light"
     },
     "output_type": "display_data"
    },
    {
     "data": {
      "image/png": "[encoded data removed]",
      "text/plain": [
       "<Figure size 432x288 with 1 Axes>"
      ]
     },
     "metadata": {
      "needs_background": "light"
     },
     "output_type": "display_data"
    },
    {
     "data": {
      "image/png": "[encoded data removed]",
      "text/plain": [
       "<Figure size 432x288 with 1 Axes>"
      ]
     },
     "metadata": {
      "needs_background": "light"
     },
     "output_type": "display_data"
    },
    {
     "data": {
      "image/png": "[encoded data removed]",
      "text/plain": [
       "<Figure size 432x288 with 1 Axes>"
      ]
     },
     "metadata": {
      "needs_background": "light"
     },
     "output_type": "display_data"
    },
    {
     "data": {
      "image/png": "[encoded data removed]",
      "text/plain": [
       "<Figure size 432x288 with 1 Axes>"
      ]
     },
     "metadata": {
      "needs_background": "light"
     },
     "output_type": "display_data"
    }
   ],
   "source": [
    "col_names = ['price','age','odometer','cylinders','condition']\n",
    "for name in col_names:\n",
    "    data.hist(name,bins=100)\n",
    "    plt.title(\"Visualization of the \" + name + \" column\")\n",
    "    plt.xlabel(name)\n",
    "    plt.ylabel(\"Count\")\n",
    "    plt.show()\n",
    "data.hist('odometer',bins = 100,range=(110000,115000))\n",
    "plt.title(\"Searching anomalie in odometer column\")\n",
    "plt.xlabel(\"odometer\")\n",
    "plt.ylabel('Count')\n",
    "plt.show()"
   ]
  },
  {
   "cell_type": "markdown",
   "metadata": {},
   "source": [
    "We used `hist()` method for drawing histograms. And we used `range` attribute for finding anomalies' corresponding values. On the graphs from the above we can see anomalie on price where we have `price` = 0. Is not quite doubtfull? And also we have problem on range (110000 and 115000). By changing range we fixed that problem on 113000"
   ]
  },
  {
   "cell_type": "code",
   "execution_count": 5,
   "metadata": {
    "scrolled": false
   },
   "outputs": [
    {
     "data": {
      "image/png": "[encoded data removed]",
      "text/plain": [
       "<Figure size 432x288 with 1 Axes>"
      ]
     },
     "metadata": {
      "needs_background": "light"
     },
     "output_type": "display_data"
    },
    {
     "name": "stdout",
     "output_type": "stream",
     "text": [
      "count     51525.000000\n",
      "mean      12132.464920\n",
      "std       10040.803015\n",
      "min           1.000000\n",
      "25%        5000.000000\n",
      "50%        9000.000000\n",
      "75%       16839.000000\n",
      "max      375000.000000\n",
      "Name: price, dtype: float64\n",
      "           price\n",
      "condition       \n",
      "0           2500\n",
      "1           2500\n",
      "2           7900\n",
      "3          10495\n",
      "4          13995\n",
      "5          21999\n"
     ]
    },
    {
     "data": {
      "text/html": [
       "<div>\n",
       "<style scoped>\n",
       "    .dataframe tbody tr th:only-of-type {\n",
       "        vertical-align: middle;\n",
       "    }\n",
       "\n",
       "    .dataframe tbody tr th {\n",
       "        vertical-align: top;\n",
       "    }\n",
       "\n",
       "    .dataframe thead th {\n",
       "        text-align: right;\n",
       "    }\n",
       "</style>\n",
       "<table border=\"1\" class=\"dataframe\">\n",
       "  <thead>\n",
       "    <tr style=\"text-align: right;\">\n",
       "      <th></th>\n",
       "      <th>price</th>\n",
       "      <th>model_year</th>\n",
       "      <th>model</th>\n",
       "      <th>condition</th>\n",
       "      <th>cylinders</th>\n",
       "      <th>fuel</th>\n",
       "      <th>odometer</th>\n",
       "      <th>transmission</th>\n",
       "      <th>type</th>\n",
       "      <th>paint_color</th>\n",
       "      <th>is_4wd</th>\n",
       "      <th>date_posted</th>\n",
       "      <th>days_listed</th>\n",
       "      <th>weekday</th>\n",
       "      <th>month</th>\n",
       "      <th>year</th>\n",
       "      <th>age</th>\n",
       "      <th>avg_mileage</th>\n",
       "    </tr>\n",
       "  </thead>\n",
       "  <tbody>\n",
       "    <tr>\n",
       "      <td>0</td>\n",
       "      <td>9400</td>\n",
       "      <td>2011</td>\n",
       "      <td>bmw x5</td>\n",
       "      <td>2</td>\n",
       "      <td>6</td>\n",
       "      <td>gas</td>\n",
       "      <td>145000</td>\n",
       "      <td>automatic</td>\n",
       "      <td>SUV</td>\n",
       "      <td>NaN</td>\n",
       "      <td>1</td>\n",
       "      <td>2018-06-23</td>\n",
       "      <td>19</td>\n",
       "      <td>5</td>\n",
       "      <td>6</td>\n",
       "      <td>2018</td>\n",
       "      <td>7</td>\n",
       "      <td>20714.0</td>\n",
       "    </tr>\n",
       "    <tr>\n",
       "      <td>1</td>\n",
       "      <td>25500</td>\n",
       "      <td>2011</td>\n",
       "      <td>ford f-150</td>\n",
       "      <td>2</td>\n",
       "      <td>6</td>\n",
       "      <td>gas</td>\n",
       "      <td>88705</td>\n",
       "      <td>automatic</td>\n",
       "      <td>pickup</td>\n",
       "      <td>white</td>\n",
       "      <td>1</td>\n",
       "      <td>2018-10-19</td>\n",
       "      <td>50</td>\n",
       "      <td>4</td>\n",
       "      <td>10</td>\n",
       "      <td>2018</td>\n",
       "      <td>7</td>\n",
       "      <td>12672.0</td>\n",
       "    </tr>\n",
       "    <tr>\n",
       "      <td>2</td>\n",
       "      <td>5500</td>\n",
       "      <td>2013</td>\n",
       "      <td>hyundai sonata</td>\n",
       "      <td>4</td>\n",
       "      <td>4</td>\n",
       "      <td>gas</td>\n",
       "      <td>110000</td>\n",
       "      <td>automatic</td>\n",
       "      <td>sedan</td>\n",
       "      <td>red</td>\n",
       "      <td>0</td>\n",
       "      <td>2019-02-07</td>\n",
       "      <td>79</td>\n",
       "      <td>3</td>\n",
       "      <td>2</td>\n",
       "      <td>2019</td>\n",
       "      <td>6</td>\n",
       "      <td>18333.0</td>\n",
       "    </tr>\n",
       "    <tr>\n",
       "      <td>4</td>\n",
       "      <td>14900</td>\n",
       "      <td>2017</td>\n",
       "      <td>chrysler 200</td>\n",
       "      <td>3</td>\n",
       "      <td>4</td>\n",
       "      <td>gas</td>\n",
       "      <td>80903</td>\n",
       "      <td>automatic</td>\n",
       "      <td>sedan</td>\n",
       "      <td>black</td>\n",
       "      <td>0</td>\n",
       "      <td>2019-04-02</td>\n",
       "      <td>28</td>\n",
       "      <td>1</td>\n",
       "      <td>4</td>\n",
       "      <td>2019</td>\n",
       "      <td>2</td>\n",
       "      <td>40452.0</td>\n",
       "    </tr>\n",
       "    <tr>\n",
       "      <td>5</td>\n",
       "      <td>14990</td>\n",
       "      <td>2014</td>\n",
       "      <td>chrysler 300</td>\n",
       "      <td>3</td>\n",
       "      <td>6</td>\n",
       "      <td>gas</td>\n",
       "      <td>57954</td>\n",
       "      <td>automatic</td>\n",
       "      <td>sedan</td>\n",
       "      <td>black</td>\n",
       "      <td>1</td>\n",
       "      <td>2018-06-20</td>\n",
       "      <td>15</td>\n",
       "      <td>2</td>\n",
       "      <td>6</td>\n",
       "      <td>2018</td>\n",
       "      <td>4</td>\n",
       "      <td>14488.0</td>\n",
       "    </tr>\n",
       "  </tbody>\n",
       "</table>\n",
       "</div>"
      ],
      "text/plain": [
       "   price  model_year           model  condition  cylinders fuel  odometer  \\\n",
       "0   9400        2011          bmw x5          2          6  gas    145000   \n",
       "1  25500        2011      ford f-150          2          6  gas     88705   \n",
       "2   5500        2013  hyundai sonata          4          4  gas    110000   \n",
       "4  14900        2017    chrysler 200          3          4  gas     80903   \n",
       "5  14990        2014    chrysler 300          3          6  gas     57954   \n",
       "\n",
       "  transmission    type paint_color  is_4wd date_posted  days_listed  weekday  \\\n",
       "0    automatic     SUV         NaN       1  2018-06-23           19        5   \n",
       "1    automatic  pickup       white       1  2018-10-19           50        4   \n",
       "2    automatic   sedan         red       0  2019-02-07           79        3   \n",
       "4    automatic   sedan       black       0  2019-04-02           28        1   \n",
       "5    automatic   sedan       black       1  2018-06-20           15        2   \n",
       "\n",
       "   month  year  age  avg_mileage  \n",
       "0      6  2018    7      20714.0  \n",
       "1     10  2018    7      12672.0  \n",
       "2      2  2019    6      18333.0  \n",
       "4      4  2019    2      40452.0  \n",
       "5      6  2018    4      14488.0  "
      ]
     },
     "execution_count": 5,
     "metadata": {},
     "output_type": "execute_result"
    }
   ],
   "source": [
    "#Finding outliers with boxplot() method\n",
    "Q1 = data['price'].quantile(0.25)\n",
    "Q3 = data['price'].quantile(0.75)\n",
    "IQR = Q3 - Q1\n",
    "upplimit = Q3 + 1.5 * IQR\n",
    "plt.ylim(-10000,100000)\n",
    "plt.title(\"Boxplot model for 'price' column\")\n",
    "data.boxplot('price')\n",
    "plt.ylabel('price')\n",
    "plt.xlabel('boxplot')\n",
    "plt.hlines(y=upplimit,xmin = 0.9, xmax=1.1,color='red')\n",
    "plt.show()\n",
    "#Slicing data with query() method\n",
    "print(data['price'].describe())\n",
    "data_pivot = data.pivot_table(index = 'condition', values = 'price', aggfunc='median')\n",
    "print(data_pivot)\n",
    "data_filtered = data.query('1000 <= price <= @upplimit and odometer != 113000')\n",
    "#Checking\n",
    "data_filtered.head()"
   ]
  },
  {
   "cell_type": "markdown",
   "metadata": {},
   "source": [
    "Here we used `quantile()` method for finding `Q1` and `Q3`. With Q1 and Q3 we find outlier and draw `boxplot` model of our data. Our analysing directly depends to price so for finding upper we used boxplot() method. And for finding lower price we used pivot_table() method, grouped car by their `condition` and found median of them. We got 2500 for lower price and divided it by 2.5 because 2500 is median. With `query()` method we had sliced our data and also we include value taken from `odometer`\n"
   ]
  },
  {
   "cell_type": "code",
   "execution_count": 6,
   "metadata": {},
   "outputs": [
    {
     "data": {
      "image/png": "[encoded data removed]",
      "text/plain": [
       "<Figure size 432x288 with 1 Axes>"
      ]
     },
     "metadata": {
      "needs_background": "light"
     },
     "output_type": "display_data"
    },
    {
     "data": {
      "image/png": "[encoded data removed]",
      "text/plain": [
       "<Figure size 432x288 with 1 Axes>"
      ]
     },
     "metadata": {
      "needs_background": "light"
     },
     "output_type": "display_data"
    },
    {
     "data": {
      "image/png": "[encoded data removed]",
      "text/plain": [
       "<Figure size 432x288 with 1 Axes>"
      ]
     },
     "metadata": {
      "needs_background": "light"
     },
     "output_type": "display_data"
    },
    {
     "data": {
      "image/png": "[encoded data removed]",
      "text/plain": [
       "<Figure size 432x288 with 1 Axes>"
      ]
     },
     "metadata": {
      "needs_background": "light"
     },
     "output_type": "display_data"
    },
    {
     "data": {
      "image/png": "[encoded data removed]",
      "text/plain": [
       "<Figure size 432x288 with 1 Axes>"
      ]
     },
     "metadata": {
      "needs_background": "light"
     },
     "output_type": "display_data"
    }
   ],
   "source": [
    "for name in col_names:\n",
    "    data_filtered.hist(name,bins=100)\n",
    "    plt.title('Histogram of the ' + name)\n",
    "    plt.xlabel(name)\n",
    "    plt.ylabel('Count')\n",
    "    plt.show()"
   ]
  },
  {
   "cell_type": "markdown",
   "metadata": {},
   "source": [
    "Here we have checked after slicing data. `price` and `odometer` columns changed as we expected. Other columns not changed or changed a little slightly."
   ]
  },
  {
   "cell_type": "code",
   "execution_count": 7,
   "metadata": {},
   "outputs": [
    {
     "data": {
      "image/png": "[encoded data removed]",
      "text/plain": [
       "<Figure size 432x288 with 1 Axes>"
      ]
     },
     "metadata": {
      "needs_background": "light"
     },
     "output_type": "display_data"
    },
    {
     "name": "stdout",
     "output_type": "stream",
     "text": [
      "count    40971.000000\n",
      "mean        39.633814\n",
      "std         28.158287\n",
      "min          0.000000\n",
      "25%         19.000000\n",
      "50%         33.000000\n",
      "75%         54.000000\n",
      "max        271.000000\n",
      "Name: days_listed, dtype: float64\n"
     ]
    }
   ],
   "source": [
    "data_filtered.hist('days_listed',bins = 100)\n",
    "plt.title(\"Visualization listed days of ads\")\n",
    "plt.xlabel(\"Number of days\")\n",
    "plt.ylabel(\"Count\")\n",
    "plt.show()\n",
    "print(data_filtered['days_listed'].describe())"
   ]
  },
  {
   "cell_type": "markdown",
   "metadata": {},
   "source": [
    "On the cell above we have checked for `days_listed`. And used `hist()` and `describe()` methods to draw conclusions about this column. As wee see `mean` and `median` differ from each other a quite less. A typical lifetime for ads about one month plus-minus one week. And as wee see some ads were deleted on the day posted or they were sold immedeatily? :) And also some ads were displayed more than 200 days. Isn't too long?"
   ]
  },
  {
   "cell_type": "code",
   "execution_count": 8,
   "metadata": {},
   "outputs": [
    {
     "data": {
      "image/png": "[encoded data removed]",
      "text/plain": [
       "<Figure size 432x288 with 1 Axes>"
      ]
     },
     "metadata": {
      "needs_background": "light"
     },
     "output_type": "display_data"
    }
   ],
   "source": [
    "avg_price = data_filtered.pivot_table(index = 'type', values='price',aggfunc=['mean', 'count'])\n",
    "avg_price.columns=['avg_price','adsNum']\n",
    "avg_price['avg_price'] = round(avg_price['avg_price']).astype(int)\n",
    "avg_price = avg_price.sort_values('adsNum',ascending=False)\n",
    "avg_price.plot(y='adsNum',kind='bar',grid=True,title=\"Visualization of number of ads on each type\")\n",
    "plt.xlabel('Types of Vehicles')\n",
    "plt.ylabel('Count')\n",
    "plt.show()"
   ]
  },
  {
   "cell_type": "markdown",
   "metadata": {},
   "source": [
    "Here we created pivot_table from data which we are filtered. And displayed result with `plot()` method. As wee see the highest number of ads corresponds to `SUV` and `sedan` types."
   ]
  },
  {
   "cell_type": "code",
   "execution_count": 9,
   "metadata": {},
   "outputs": [
    {
     "data": {
      "image/png": "[encoded data removed]",
      "text/plain": [
       "<Figure size 432x288 with 1 Axes>"
      ]
     },
     "metadata": {
      "needs_background": "light"
     },
     "output_type": "display_data"
    },
    {
     "data": {
      "image/png": "[encoded data removed]",
      "text/plain": [
       "<Figure size 432x288 with 1 Axes>"
      ]
     },
     "metadata": {
      "needs_background": "light"
     },
     "output_type": "display_data"
    },
    {
     "data": {
      "text/html": [
       "<div>\n",
       "<style scoped>\n",
       "    .dataframe tbody tr th:only-of-type {\n",
       "        vertical-align: middle;\n",
       "    }\n",
       "\n",
       "    .dataframe tbody tr th {\n",
       "        vertical-align: top;\n",
       "    }\n",
       "\n",
       "    .dataframe thead th {\n",
       "        text-align: right;\n",
       "    }\n",
       "</style>\n",
       "<table border=\"1\" class=\"dataframe\">\n",
       "  <thead>\n",
       "    <tr style=\"text-align: right;\">\n",
       "      <th></th>\n",
       "      <th>price</th>\n",
       "      <th>model_year</th>\n",
       "      <th>condition</th>\n",
       "      <th>cylinders</th>\n",
       "      <th>odometer</th>\n",
       "      <th>is_4wd</th>\n",
       "      <th>days_listed</th>\n",
       "      <th>weekday</th>\n",
       "      <th>month</th>\n",
       "      <th>year</th>\n",
       "      <th>age</th>\n",
       "      <th>avg_mileage</th>\n",
       "    </tr>\n",
       "  </thead>\n",
       "  <tbody>\n",
       "    <tr>\n",
       "      <td>price</td>\n",
       "      <td>1.000000</td>\n",
       "      <td>0.547113</td>\n",
       "      <td>0.272671</td>\n",
       "      <td>0.143997</td>\n",
       "      <td>-0.505090</td>\n",
       "      <td>0.283731</td>\n",
       "      <td>-0.012857</td>\n",
       "      <td>0.003859</td>\n",
       "      <td>-0.011311</td>\n",
       "      <td>0.007317</td>\n",
       "      <td>-0.544480</td>\n",
       "      <td>0.212269</td>\n",
       "    </tr>\n",
       "    <tr>\n",
       "      <td>model_year</td>\n",
       "      <td>0.547113</td>\n",
       "      <td>1.000000</td>\n",
       "      <td>0.277069</td>\n",
       "      <td>-0.260133</td>\n",
       "      <td>-0.524689</td>\n",
       "      <td>-0.111898</td>\n",
       "      <td>-0.011307</td>\n",
       "      <td>-0.003546</td>\n",
       "      <td>-0.013326</td>\n",
       "      <td>0.008240</td>\n",
       "      <td>-0.995664</td>\n",
       "      <td>0.484716</td>\n",
       "    </tr>\n",
       "    <tr>\n",
       "      <td>condition</td>\n",
       "      <td>0.272671</td>\n",
       "      <td>0.277069</td>\n",
       "      <td>1.000000</td>\n",
       "      <td>-0.081614</td>\n",
       "      <td>-0.302511</td>\n",
       "      <td>-0.018159</td>\n",
       "      <td>-0.014324</td>\n",
       "      <td>0.004681</td>\n",
       "      <td>-0.004764</td>\n",
       "      <td>0.003385</td>\n",
       "      <td>-0.275765</td>\n",
       "      <td>0.038969</td>\n",
       "    </tr>\n",
       "    <tr>\n",
       "      <td>cylinders</td>\n",
       "      <td>0.143997</td>\n",
       "      <td>-0.260133</td>\n",
       "      <td>-0.081614</td>\n",
       "      <td>1.000000</td>\n",
       "      <td>0.223138</td>\n",
       "      <td>0.379937</td>\n",
       "      <td>0.015132</td>\n",
       "      <td>0.004990</td>\n",
       "      <td>0.000767</td>\n",
       "      <td>0.002615</td>\n",
       "      <td>0.259448</td>\n",
       "      <td>-0.091900</td>\n",
       "    </tr>\n",
       "    <tr>\n",
       "      <td>odometer</td>\n",
       "      <td>-0.505090</td>\n",
       "      <td>-0.524689</td>\n",
       "      <td>-0.302511</td>\n",
       "      <td>0.223138</td>\n",
       "      <td>1.000000</td>\n",
       "      <td>0.095981</td>\n",
       "      <td>0.008052</td>\n",
       "      <td>0.002504</td>\n",
       "      <td>0.013411</td>\n",
       "      <td>-0.008303</td>\n",
       "      <td>0.522043</td>\n",
       "      <td>0.174811</td>\n",
       "    </tr>\n",
       "    <tr>\n",
       "      <td>is_4wd</td>\n",
       "      <td>0.283731</td>\n",
       "      <td>-0.111898</td>\n",
       "      <td>-0.018159</td>\n",
       "      <td>0.379937</td>\n",
       "      <td>0.095981</td>\n",
       "      <td>1.000000</td>\n",
       "      <td>0.003740</td>\n",
       "      <td>0.010888</td>\n",
       "      <td>0.000666</td>\n",
       "      <td>0.004904</td>\n",
       "      <td>0.111954</td>\n",
       "      <td>-0.029689</td>\n",
       "    </tr>\n",
       "    <tr>\n",
       "      <td>days_listed</td>\n",
       "      <td>-0.012857</td>\n",
       "      <td>-0.011307</td>\n",
       "      <td>-0.014324</td>\n",
       "      <td>0.015132</td>\n",
       "      <td>0.008052</td>\n",
       "      <td>0.003740</td>\n",
       "      <td>1.000000</td>\n",
       "      <td>-0.002453</td>\n",
       "      <td>-0.006236</td>\n",
       "      <td>0.004035</td>\n",
       "      <td>0.011642</td>\n",
       "      <td>-0.012561</td>\n",
       "    </tr>\n",
       "    <tr>\n",
       "      <td>weekday</td>\n",
       "      <td>0.003859</td>\n",
       "      <td>-0.003546</td>\n",
       "      <td>0.004681</td>\n",
       "      <td>0.004990</td>\n",
       "      <td>0.002504</td>\n",
       "      <td>0.010888</td>\n",
       "      <td>-0.002453</td>\n",
       "      <td>1.000000</td>\n",
       "      <td>0.014004</td>\n",
       "      <td>-0.014369</td>\n",
       "      <td>0.002196</td>\n",
       "      <td>-0.002907</td>\n",
       "    </tr>\n",
       "    <tr>\n",
       "      <td>month</td>\n",
       "      <td>-0.011311</td>\n",
       "      <td>-0.013326</td>\n",
       "      <td>-0.004764</td>\n",
       "      <td>0.000767</td>\n",
       "      <td>0.013411</td>\n",
       "      <td>0.000666</td>\n",
       "      <td>-0.006236</td>\n",
       "      <td>0.014004</td>\n",
       "      <td>1.000000</td>\n",
       "      <td>-0.818904</td>\n",
       "      <td>-0.062904</td>\n",
       "      <td>0.101827</td>\n",
       "    </tr>\n",
       "    <tr>\n",
       "      <td>year</td>\n",
       "      <td>0.007317</td>\n",
       "      <td>0.008240</td>\n",
       "      <td>0.003385</td>\n",
       "      <td>0.002615</td>\n",
       "      <td>-0.008303</td>\n",
       "      <td>0.004904</td>\n",
       "      <td>0.004035</td>\n",
       "      <td>-0.014369</td>\n",
       "      <td>-0.818904</td>\n",
       "      <td>1.000000</td>\n",
       "      <td>0.084819</td>\n",
       "      <td>-0.123131</td>\n",
       "    </tr>\n",
       "    <tr>\n",
       "      <td>age</td>\n",
       "      <td>-0.544480</td>\n",
       "      <td>-0.995664</td>\n",
       "      <td>-0.275765</td>\n",
       "      <td>0.259448</td>\n",
       "      <td>0.522043</td>\n",
       "      <td>0.111954</td>\n",
       "      <td>0.011642</td>\n",
       "      <td>0.002196</td>\n",
       "      <td>-0.062904</td>\n",
       "      <td>0.084819</td>\n",
       "      <td>1.000000</td>\n",
       "      <td>-0.495148</td>\n",
       "    </tr>\n",
       "    <tr>\n",
       "      <td>avg_mileage</td>\n",
       "      <td>0.212269</td>\n",
       "      <td>0.484716</td>\n",
       "      <td>0.038969</td>\n",
       "      <td>-0.091900</td>\n",
       "      <td>0.174811</td>\n",
       "      <td>-0.029689</td>\n",
       "      <td>-0.012561</td>\n",
       "      <td>-0.002907</td>\n",
       "      <td>0.101827</td>\n",
       "      <td>-0.123131</td>\n",
       "      <td>-0.495148</td>\n",
       "      <td>1.000000</td>\n",
       "    </tr>\n",
       "  </tbody>\n",
       "</table>\n",
       "</div>"
      ],
      "text/plain": [
       "                price  model_year  condition  cylinders  odometer    is_4wd  \\\n",
       "price        1.000000    0.547113   0.272671   0.143997 -0.505090  0.283731   \n",
       "model_year   0.547113    1.000000   0.277069  -0.260133 -0.524689 -0.111898   \n",
       "condition    0.272671    0.277069   1.000000  -0.081614 -0.302511 -0.018159   \n",
       "cylinders    0.143997   -0.260133  -0.081614   1.000000  0.223138  0.379937   \n",
       "odometer    -0.505090   -0.524689  -0.302511   0.223138  1.000000  0.095981   \n",
       "is_4wd       0.283731   -0.111898  -0.018159   0.379937  0.095981  1.000000   \n",
       "days_listed -0.012857   -0.011307  -0.014324   0.015132  0.008052  0.003740   \n",
       "weekday      0.003859   -0.003546   0.004681   0.004990  0.002504  0.010888   \n",
       "month       -0.011311   -0.013326  -0.004764   0.000767  0.013411  0.000666   \n",
       "year         0.007317    0.008240   0.003385   0.002615 -0.008303  0.004904   \n",
       "age         -0.544480   -0.995664  -0.275765   0.259448  0.522043  0.111954   \n",
       "avg_mileage  0.212269    0.484716   0.038969  -0.091900  0.174811 -0.029689   \n",
       "\n",
       "             days_listed   weekday     month      year       age  avg_mileage  \n",
       "price          -0.012857  0.003859 -0.011311  0.007317 -0.544480     0.212269  \n",
       "model_year     -0.011307 -0.003546 -0.013326  0.008240 -0.995664     0.484716  \n",
       "condition      -0.014324  0.004681 -0.004764  0.003385 -0.275765     0.038969  \n",
       "cylinders       0.015132  0.004990  0.000767  0.002615  0.259448    -0.091900  \n",
       "odometer        0.008052  0.002504  0.013411 -0.008303  0.522043     0.174811  \n",
       "is_4wd          0.003740  0.010888  0.000666  0.004904  0.111954    -0.029689  \n",
       "days_listed     1.000000 -0.002453 -0.006236  0.004035  0.011642    -0.012561  \n",
       "weekday        -0.002453  1.000000  0.014004 -0.014369  0.002196    -0.002907  \n",
       "month          -0.006236  0.014004  1.000000 -0.818904 -0.062904     0.101827  \n",
       "year            0.004035 -0.014369 -0.818904  1.000000  0.084819    -0.123131  \n",
       "age             0.011642  0.002196 -0.062904  0.084819  1.000000    -0.495148  \n",
       "avg_mileage    -0.012561 -0.002907  0.101827 -0.123131 -0.495148     1.000000  "
      ]
     },
     "execution_count": 9,
     "metadata": {},
     "output_type": "execute_result"
    }
   ],
   "source": [
    "#Getting greatest two types vehicles\n",
    "final_data = data_filtered.query('type in(\"SUV\",\"sedan\")')\n",
    "#Working with categorical variables\n",
    " #Color variable\n",
    "color_data = final_data.pivot_table(index=['type','paint_color'],values='price',aggfunc='count')\n",
    "color_data.columns=['adsNum']\n",
    "color_data = color_data.query('adsNum > 50')\n",
    "color_data.boxplot()\n",
    "plt.title('Boxplot model for the color')\n",
    "plt.xlabel('boxplot')\n",
    "plt.ylabel(\"Ads Number\")\n",
    "plt.show()\n",
    " #Transmission variable  \n",
    "transmission_data = final_data.pivot_table(index=['type','transmission'],values='price',aggfunc='count')\n",
    "transmission_data.columns=['adsNum']\n",
    "transmission_data = transmission_data.query('adsNum > 50')\n",
    "transmission_data.boxplot()\n",
    "plt.title('Boxplot model for the transmission')\n",
    "plt.xlabel('boxplot')\n",
    "plt.ylabel(\"Ads Number\")\n",
    "plt.show()\n",
    "final_data.corr()"
   ]
  },
  {
   "cell_type": "markdown",
   "metadata": {},
   "source": [
    "On the cell which is located above we created box- and whishker- charts for categorical values. Abd used `corr()` method for finding relationship on `final_data` dataframe's each column to each other."
   ]
  },
  {
   "cell_type": "markdown",
   "metadata": {},
   "source": [
    "### Step 5. Overall conclusion"
   ]
  },
  {
   "cell_type": "markdown",
   "metadata": {},
   "source": [
    "In conclusion, on the price of the vehicle mostly influences `model_year`. And `is_4wd`,`condition`,`avg_mileage` and `cylinders` factors impacts on decreasing order correspondly. And `days_listed`,`posted year and month` and `weekday` factors impacts very very small, which means we can ignore them. The distance that car driven and age of car will impact vice versely which means the higher this values the price will be lower"
   ]
  },
  {
   "cell_type": "markdown",
   "metadata": {},
   "source": [
    "### Project completion checklist\n",
    "\n",
    "Mark the completed tasks with 'x'. Then press Shift+Enter."
   ]
  },
  {
   "cell_type": "markdown",
   "metadata": {},
   "source": [
    "- [x]  file opened\n",
    "- [x]  files explored (first rows printed, info() method)\n",
    "- [x]  missing values determined\n",
    "- [x]  missing values filled in\n",
    "- [x]  clarification of the discovered missing values provided\n",
    "- [x]  data types converted\n",
    "- [x]  explanation of which columns had the data types changed and why\n",
    "- [x]  calculated and added to the table: day of the week, month, and year the ad was placed\n",
    "- [x]  calculated and added to the table: the vehicle's age (in years) when the ad was placed\n",
    "- [x]  calculated and added to the table: the vehicle's average mileage per year\n",
    "- [x]  the following parameters investigated: price, vehicle's age when the ad was placed, mileage, number of cylinders, and condition\n",
    "- [x]  histograms for each parameter created\n",
    "- [x]  task completed: \"Determine the upper limits of outliers, remove the outliers and store them in a separate DataFrame, and continue your work with the filtered data.\"\n",
    "- [x]  task completed: \"Use the filtered data to plot new histograms. Compare them with the earlier histograms (the ones that included outliers). Draw conclusions for each histogram.\"\n",
    "- [x]  task completed: \"Study how many days advertisements were displayed (days_listed). Plot a histogram. Calculate the mean and median. Describe the typical lifetime of an ad. Determine when ads were removed quickly, and when they were listed for an abnormally long time.  \"\n",
    "- [x]  task completed: \"Analyze the number of ads and the average price for each type of vehicle. Plot a graph showing the dependence of the number of ads on the vehicle type. Select the two types with the greatest number of ads. \"\n",
    "- [x]  task completed: \"What factors impact the price most? Take each of the popular types you detected at the previous stage and study whether the price depends on age, mileage, condition, transmission type, and color. For categorical variables (transmission type and color), plot box-and-whisker charts, and create scatterplots for the rest. When analyzing categorical variables, note that the categories must have at least 50 ads; otherwise, their parameters won't be valid for analysis.  \"\n",
    "- [x]  each stage has a conclusion\n",
    "- [x]  overall conclusion drawn"
   ]
  }
 ],
 "metadata": {
  "kernelspec": {
   "display_name": "Python 3",
   "language": "python",
   "name": "python3"
  },
  "language_info": {
   "codemirror_mode": {
    "name": "ipython",
    "version": 3
   },
   "file_extension": ".py",
   "mimetype": "text/x-python",
   "name": "python",
   "nbconvert_exporter": "python",
   "pygments_lexer": "ipython3",
   "version": "3.8.5"
  },
  "toc": {
   "base_numbering": 1,
   "nav_menu": {},
   "number_sections": true,
   "sideBar": true,
   "skip_h1_title": true,
   "title_cell": "Table of Contents",
   "title_sidebar": "Contents",
   "toc_cell": false,
   "toc_position": {},
   "toc_section_display": true,
   "toc_window_display": false
  }
 },
 "nbformat": 4,
 "nbformat_minor": 2
}

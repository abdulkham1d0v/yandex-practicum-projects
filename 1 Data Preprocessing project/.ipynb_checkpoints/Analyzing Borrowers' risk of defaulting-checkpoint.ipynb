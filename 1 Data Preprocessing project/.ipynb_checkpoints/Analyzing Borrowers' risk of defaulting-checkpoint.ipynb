{
 "cells": [
  {
   "cell_type": "markdown",
   "metadata": {},
   "source": [
    "## Analyzing borrowers’ risk of defaulting\n",
    "\n",
    "Your project is to prepare a report for a bank’s loan division. You’ll need to find out if a customer’s marital status and number of children has an impact on whether they will default on a loan. The bank already has some data on customers’ credit worthiness.\n",
    "\n",
    "Your report will be considered when building a **credit scoring** of a potential customer. A **credit scoring** is used to evaluate the ability of a potential borrower to repay their loan."
   ]
  },
  {
   "cell_type": "markdown",
   "metadata": {},
   "source": [
    "### Step 1. Open the data file and have a look at the general information. "
   ]
  },
  {
   "cell_type": "code",
   "execution_count": 1,
   "metadata": {
    "scrolled": true
   },
   "outputs": [
    {
     "name": "stdout",
     "output_type": "stream",
     "text": [
      "<class 'pandas.core.frame.DataFrame'>\n",
      "RangeIndex: 21525 entries, 0 to 21524\n",
      "Data columns (total 12 columns):\n",
      "children            21525 non-null int64\n",
      "days_employed       19351 non-null float64\n",
      "dob_years           21525 non-null int64\n",
      "education           21525 non-null object\n",
      "education_id        21525 non-null int64\n",
      "family_status       21525 non-null object\n",
      "family_status_id    21525 non-null int64\n",
      "gender              21525 non-null object\n",
      "income_type         21525 non-null object\n",
      "debt                21525 non-null int64\n",
      "total_income        19351 non-null float64\n",
      "purpose             21525 non-null object\n",
      "dtypes: float64(2), int64(5), object(5)\n",
      "memory usage: 2.0+ MB\n"
     ]
    }
   ],
   "source": [
    "import pandas as pd\n",
    "import nltk \n",
    "from nltk.stem import WordNetLemmatizer\n",
    "from collections import Counter\n",
    "credit_scoring = pd.read_csv('/datasets/credit_scoring_eng.csv')\n",
    "credit_scoring.info()"
   ]
  },
  {
   "cell_type": "markdown",
   "metadata": {},
   "source": [
    "### Conclusion"
   ]
  },
  {
   "cell_type": "markdown",
   "metadata": {},
   "source": [
    "As wee see above general information we have 21525 rows. And some of them have missing values"
   ]
  },
  {
   "cell_type": "markdown",
   "metadata": {},
   "source": [
    "### Step 2. Data preprocessing"
   ]
  },
  {
   "cell_type": "markdown",
   "metadata": {},
   "source": [
    "### Processing missing values"
   ]
  },
  {
   "cell_type": "code",
   "execution_count": 2,
   "metadata": {},
   "outputs": [
    {
     "name": "stdout",
     "output_type": "stream",
     "text": [
      "Missing values before filling on \"total_income\" column: 2174\n",
      "Missing after filling on \"total_income\" column: 0\n",
      "Missing values before filling on \"days_employed\": 2174\n",
      "Missing values after filling on \"days_employed\": 0\n"
     ]
    }
   ],
   "source": [
    "#Checking for missing values and counting their number\n",
    "print('Missing values before filling on \"total_income\" column: {}'.format(credit_scoring['total_income'].isna().sum()))\n",
    "#Putting a average income instead of missing values\n",
    "avg_income = credit_scoring['total_income'].mean()\n",
    "credit_scoring['total_income'] = credit_scoring['total_income'].fillna(avg_income)\n",
    "print('Missing after filling on \"total_income\" column: {}'.format(credit_scoring['total_income'].isna().sum()))\n",
    "#Checking for missing values and counting their number\n",
    "print('Missing values before filling on \"days_employed\": {}'.format(credit_scoring['days_employed'].isna().sum()))\n",
    "credit_scoring['days_employed'] = credit_scoring['days_employed'].fillna(0)\n",
    "print('Missing values after filling on \"days_employed\": {}'.format(credit_scoring['days_employed'].isna().sum()))\n"
   ]
  },
  {
   "cell_type": "markdown",
   "metadata": {},
   "source": [
    "### Conclusion"
   ]
  },
  {
   "cell_type": "markdown",
   "metadata": {},
   "source": [
    "On the above I have filled missing values of 2 columns. On `'total_income'` column I have changed missing values with average of `'total_income'` with reason of `keeping data unchanged`. And on `'days_employed'` column I have changed with 0, because of there is `negative` values.And negative values definitely will affect on finding `'mean'` of column.Also, possible reason of having a missing values is that on a some people, who are in this data, might have not got a job and income. "
   ]
  },
  {
   "cell_type": "markdown",
   "metadata": {},
   "source": [
    "### Data type replacement"
   ]
  },
  {
   "cell_type": "code",
   "execution_count": 3,
   "metadata": {},
   "outputs": [
    {
     "name": "stdout",
     "output_type": "stream",
     "text": [
      "<class 'pandas.core.frame.DataFrame'>\n",
      "RangeIndex: 21525 entries, 0 to 21524\n",
      "Data columns (total 12 columns):\n",
      "children            21525 non-null int64\n",
      "days_employed       21525 non-null int64\n",
      "dob_years           21525 non-null int64\n",
      "education           21525 non-null object\n",
      "education_id        21525 non-null int64\n",
      "family_status       21525 non-null object\n",
      "family_status_id    21525 non-null int64\n",
      "gender              21525 non-null object\n",
      "income_type         21525 non-null object\n",
      "debt                21525 non-null int64\n",
      "total_income        21525 non-null int64\n",
      "purpose             21525 non-null object\n",
      "dtypes: int64(7), object(5)\n",
      "memory usage: 2.0+ MB\n"
     ]
    }
   ],
   "source": [
    "#Changing real number type to integer with ---> astype()  method\n",
    "credit_scoring['days_employed'] = credit_scoring['days_employed'].astype('int')\n",
    "credit_scoring['total_income'] = credit_scoring['total_income'].astype('int')\n",
    "#Processing negative values with ---> abs() method\n",
    "credit_scoring['days_employed'] = credit_scoring['days_employed'].abs()\n",
    "credit_scoring['children'] = credit_scoring['children'].abs()\n",
    "#Checking for results\n",
    "credit_scoring.info()"
   ]
  },
  {
   "cell_type": "markdown",
   "metadata": {},
   "source": [
    "### Conclusion"
   ]
  },
  {
   "cell_type": "markdown",
   "metadata": {},
   "source": [
    "On the above we have changed `real number` type to `integer` data type. Because in our case it is much more effective working with `integer` than `real number` type. For changing \"data type\" we have used `astype()` method. Cause of using this it is much easier than using other methods"
   ]
  },
  {
   "cell_type": "markdown",
   "metadata": {},
   "source": [
    "### Processing duplicates"
   ]
  },
  {
   "cell_type": "code",
   "execution_count": 4,
   "metadata": {},
   "outputs": [
    {
     "name": "stdout",
     "output_type": "stream",
     "text": [
      "Duplicate rows before deleting 54\n",
      "Duplicate rows after deleting 0\n",
      "Values of \"children\" column: [ 1  0  3  2  4 20  5]\n",
      "Values of \"education\" column: [\"bachelor's degree\" 'secondary education' 'Secondary Education'\n",
      " 'SECONDARY EDUCATION' \"BACHELOR'S DEGREE\" 'some college'\n",
      " 'primary education' \"Bachelor's Degree\" 'SOME COLLEGE' 'Some College'\n",
      " 'PRIMARY EDUCATION' 'Primary Education' 'Graduate Degree'\n",
      " 'GRADUATE DEGREE' 'graduate degree']\n",
      "Values of \"family_status\" column: ['married' 'civil partnership' 'widow / widower' 'divorced' 'unmarried']\n",
      "Values of \"gender\" column: ['F' 'M' 'XNA']\n",
      "Values of \"income_type\" column:['employee' 'retiree' 'business' 'civil servant' 'unemployed'\n",
      " 'entrepreneur' 'student' 'paternity / maternity leave']\n",
      "Values of \"purpose\" column:['purchase of the house' 'car purchase' 'supplementary education'\n",
      " 'to have a wedding' 'housing transactions' 'education' 'having a wedding'\n",
      " 'purchase of the house for my family' 'buy real estate'\n",
      " 'buy commercial real estate' 'buy residential real estate'\n",
      " 'construction of own property' 'property' 'building a property'\n",
      " 'buying a second-hand car' 'buying my own car'\n",
      " 'transactions with commercial real estate' 'building a real estate'\n",
      " 'housing' 'transactions with my real estate' 'cars' 'to become educated'\n",
      " 'second-hand car purchase' 'getting an education' 'car'\n",
      " 'wedding ceremony' 'to get a supplementary education'\n",
      " 'purchase of my own house' 'real estate transactions'\n",
      " 'getting higher education' 'to own a car' 'purchase of a car'\n",
      " 'profile education' 'university education'\n",
      " 'buying property for renting out' 'to buy a car' 'housing renovation'\n",
      " 'going to university']\n",
      "Values of \"education\" column after using \"str.lower()\" method: [\"bachelor's degree\" 'secondary education' 'some college'\n",
      " 'primary education' 'graduate degree']\n",
      "Values of \"children\" column after droping: [1 0 3 2 4 5]\n",
      "0                  purchase of the house\n",
      "1                           car purchase\n",
      "2                  purchase of the house\n",
      "3                supplementary education\n",
      "4                      to have a wedding\n",
      "5                  purchase of the house\n",
      "6                   housing transactions\n",
      "7                              education\n",
      "8                       having a wedding\n",
      "9    purchase of the house for my family\n",
      "Name: purpose, dtype: object\n",
      "Counter({'car': 970, 'wedding ceremony': 792, 'having a wedding': 769, 'to have a wedding': 765, 'real estate transactions': 674, 'buy commercial real estate': 659, 'buying property for renting out': 651, 'housing transactions': 648, 'transactions with commercial real estate': 646, 'purchase of the house': 643, 'housing': 642, 'purchase of the house for my family': 637, 'property': 632, 'construction of own property': 629, 'transactions with my real estate': 626, 'building a real estate': 624, 'purchase of my own house': 620, 'buy real estate': 619, 'building a property': 619, 'housing renovation': 605, 'buy residential real estate': 604, 'buying my own car': 505, 'going to university': 496, 'second-hand car purchase': 482, 'to own a car': 476, 'buying a second-hand car': 472, 'to buy a car': 471, 'car purchase': 461, 'supplementary education': 457, 'purchase of a car': 455, 'university education': 447, 'to get a supplementary education': 446, 'education': 445, 'getting an education': 441, 'profile education': 434, 'getting higher education': 425, 'to become educated': 408})\n"
     ]
    }
   ],
   "source": [
    "#Looking duplicates by duplicated() method\n",
    "print('Duplicate rows before deleting {}'.format(credit_scoring.duplicated().sum()))\n",
    "credit_scoring = credit_scoring.drop_duplicates().reset_index(drop = True)#Deleting duplicates\n",
    "print('Duplicate rows after deleting {}'.format(credit_scoring.duplicated().sum()))\n",
    "#Looking duplicats by hand\n",
    "print('Values of \"children\" column: {}'.format(credit_scoring['children'].unique()))\n",
    "print('Values of \"education\" column: {}'.format(credit_scoring['education'].unique()))\n",
    "print('Values of \"family_status\" column: {}'.format(credit_scoring['family_status'].unique()))\n",
    "print('Values of \"gender\" column: {}'.format(credit_scoring['gender'].unique()))\n",
    "print('Values of \"income_type\" column:{}'.format(credit_scoring['income_type'].unique()))\n",
    "print('Values of \"purpose\" column:{}'.format(credit_scoring['purpose'].unique()))\n",
    "#Handling 'typo' duplicates \n",
    "credit_scoring['education'] = credit_scoring['education'].str.lower()\n",
    "credit_scoring['purpose'] = credit_scoring['purpose'].str.lower()\n",
    "print('Values of \"education\" column after using \"str.lower()\" method: {}'.format(credit_scoring['education'].unique()))\n",
    "#Handling 20 children\n",
    "credit_scoring.drop(credit_scoring[credit_scoring['children'] == 20].index,inplace=True)\n",
    "print('Values of \"children\" column after droping: {}'.format(credit_scoring['children'].unique()))\n",
    "#Lemmatization \"purpose\" column and Checkiing it\n",
    "wordnet_lemma = WordNetLemmatizer()\n",
    "must_tokenize = credit_scoring['purpose']\n",
    "tokenized = [wordnet_lemma.lemmatize(words, pos='n') for words in must_tokenize] \n",
    "print(must_tokenize.head(10))\n",
    "print(Counter(tokenized))"
   ]
  },
  {
   "cell_type": "markdown",
   "metadata": {},
   "source": [
    "### Conclusion"
   ]
  },
  {
   "cell_type": "markdown",
   "metadata": {},
   "source": [
    "For finding duplicates we have used `duplicated()` method. Also, for finding 'typo' duplicates we used `unique()` method. To handle 'typo' duplicate we used `str.lower()` method. Main reason of appearing duplicates might be filling forms not correctly or not being a example of filling forms. And also 20 on the children column seems doubfully. So we will drop this values. Then, firstly we used `unique()` method for the `purpsose` column, we discovered that there are `\"lemma\"` duplicates. After that , we used `lemmatization`, then counted lemmas. As a result,  we got `car`,`wedding`,`estate`,`education` and etc. these words most repeated words. We will use this words when we categorize the data!"
   ]
  },
  {
   "cell_type": "markdown",
   "metadata": {},
   "source": [
    "### Categorizing Data"
   ]
  },
  {
   "cell_type": "code",
   "execution_count": 5,
   "metadata": {},
   "outputs": [
    {
     "data": {
      "text/html": [
       "<div>\n",
       "<style scoped>\n",
       "    .dataframe tbody tr th:only-of-type {\n",
       "        vertical-align: middle;\n",
       "    }\n",
       "\n",
       "    .dataframe tbody tr th {\n",
       "        vertical-align: top;\n",
       "    }\n",
       "\n",
       "    .dataframe thead th {\n",
       "        text-align: right;\n",
       "    }\n",
       "</style>\n",
       "<table border=\"1\" class=\"dataframe\">\n",
       "  <thead>\n",
       "    <tr style=\"text-align: right;\">\n",
       "      <th></th>\n",
       "      <th>children</th>\n",
       "      <th>days_employed</th>\n",
       "      <th>dob_years</th>\n",
       "      <th>education</th>\n",
       "      <th>education_id</th>\n",
       "      <th>family_status</th>\n",
       "      <th>family_status_id</th>\n",
       "      <th>gender</th>\n",
       "      <th>income_type</th>\n",
       "      <th>debt</th>\n",
       "      <th>total_income</th>\n",
       "      <th>purpose</th>\n",
       "      <th>loan_repaying</th>\n",
       "      <th>income_level</th>\n",
       "      <th>new_purpose</th>\n",
       "    </tr>\n",
       "  </thead>\n",
       "  <tbody>\n",
       "    <tr>\n",
       "      <td>0</td>\n",
       "      <td>1</td>\n",
       "      <td>8437</td>\n",
       "      <td>42</td>\n",
       "      <td>bachelor's degree</td>\n",
       "      <td>0</td>\n",
       "      <td>married</td>\n",
       "      <td>0</td>\n",
       "      <td>F</td>\n",
       "      <td>employee</td>\n",
       "      <td>0</td>\n",
       "      <td>40620</td>\n",
       "      <td>purchase of the house</td>\n",
       "      <td>paid on time</td>\n",
       "      <td>above the median</td>\n",
       "      <td>house&amp;property_purpose</td>\n",
       "    </tr>\n",
       "    <tr>\n",
       "      <td>1</td>\n",
       "      <td>1</td>\n",
       "      <td>4024</td>\n",
       "      <td>36</td>\n",
       "      <td>secondary education</td>\n",
       "      <td>1</td>\n",
       "      <td>married</td>\n",
       "      <td>0</td>\n",
       "      <td>F</td>\n",
       "      <td>employee</td>\n",
       "      <td>0</td>\n",
       "      <td>17932</td>\n",
       "      <td>car purchase</td>\n",
       "      <td>paid on time</td>\n",
       "      <td>below the median</td>\n",
       "      <td>car_purpose</td>\n",
       "    </tr>\n",
       "    <tr>\n",
       "      <td>2</td>\n",
       "      <td>0</td>\n",
       "      <td>5623</td>\n",
       "      <td>33</td>\n",
       "      <td>secondary education</td>\n",
       "      <td>1</td>\n",
       "      <td>married</td>\n",
       "      <td>0</td>\n",
       "      <td>M</td>\n",
       "      <td>employee</td>\n",
       "      <td>0</td>\n",
       "      <td>23341</td>\n",
       "      <td>purchase of the house</td>\n",
       "      <td>paid on time</td>\n",
       "      <td>below the median</td>\n",
       "      <td>house&amp;property_purpose</td>\n",
       "    </tr>\n",
       "    <tr>\n",
       "      <td>3</td>\n",
       "      <td>3</td>\n",
       "      <td>4124</td>\n",
       "      <td>32</td>\n",
       "      <td>secondary education</td>\n",
       "      <td>1</td>\n",
       "      <td>married</td>\n",
       "      <td>0</td>\n",
       "      <td>M</td>\n",
       "      <td>employee</td>\n",
       "      <td>0</td>\n",
       "      <td>42820</td>\n",
       "      <td>supplementary education</td>\n",
       "      <td>paid on time</td>\n",
       "      <td>above the median</td>\n",
       "      <td>education_purpose</td>\n",
       "    </tr>\n",
       "    <tr>\n",
       "      <td>4</td>\n",
       "      <td>0</td>\n",
       "      <td>340266</td>\n",
       "      <td>53</td>\n",
       "      <td>secondary education</td>\n",
       "      <td>1</td>\n",
       "      <td>civil partnership</td>\n",
       "      <td>1</td>\n",
       "      <td>F</td>\n",
       "      <td>retiree</td>\n",
       "      <td>0</td>\n",
       "      <td>25378</td>\n",
       "      <td>to have a wedding</td>\n",
       "      <td>paid on time</td>\n",
       "      <td>above the median</td>\n",
       "      <td>wedding_purpose</td>\n",
       "    </tr>\n",
       "    <tr>\n",
       "      <td>5</td>\n",
       "      <td>0</td>\n",
       "      <td>926</td>\n",
       "      <td>27</td>\n",
       "      <td>bachelor's degree</td>\n",
       "      <td>0</td>\n",
       "      <td>civil partnership</td>\n",
       "      <td>1</td>\n",
       "      <td>M</td>\n",
       "      <td>business</td>\n",
       "      <td>0</td>\n",
       "      <td>40922</td>\n",
       "      <td>purchase of the house</td>\n",
       "      <td>paid on time</td>\n",
       "      <td>above the median</td>\n",
       "      <td>house&amp;property_purpose</td>\n",
       "    </tr>\n",
       "    <tr>\n",
       "      <td>6</td>\n",
       "      <td>0</td>\n",
       "      <td>2879</td>\n",
       "      <td>43</td>\n",
       "      <td>bachelor's degree</td>\n",
       "      <td>0</td>\n",
       "      <td>married</td>\n",
       "      <td>0</td>\n",
       "      <td>F</td>\n",
       "      <td>business</td>\n",
       "      <td>0</td>\n",
       "      <td>38484</td>\n",
       "      <td>housing transactions</td>\n",
       "      <td>paid on time</td>\n",
       "      <td>above the median</td>\n",
       "      <td>house&amp;property_purpose</td>\n",
       "    </tr>\n",
       "    <tr>\n",
       "      <td>7</td>\n",
       "      <td>0</td>\n",
       "      <td>152</td>\n",
       "      <td>50</td>\n",
       "      <td>secondary education</td>\n",
       "      <td>1</td>\n",
       "      <td>married</td>\n",
       "      <td>0</td>\n",
       "      <td>M</td>\n",
       "      <td>employee</td>\n",
       "      <td>0</td>\n",
       "      <td>21731</td>\n",
       "      <td>education</td>\n",
       "      <td>paid on time</td>\n",
       "      <td>below the median</td>\n",
       "      <td>education_purpose</td>\n",
       "    </tr>\n",
       "    <tr>\n",
       "      <td>8</td>\n",
       "      <td>2</td>\n",
       "      <td>6929</td>\n",
       "      <td>35</td>\n",
       "      <td>bachelor's degree</td>\n",
       "      <td>0</td>\n",
       "      <td>civil partnership</td>\n",
       "      <td>1</td>\n",
       "      <td>F</td>\n",
       "      <td>employee</td>\n",
       "      <td>0</td>\n",
       "      <td>15337</td>\n",
       "      <td>having a wedding</td>\n",
       "      <td>paid on time</td>\n",
       "      <td>below the median</td>\n",
       "      <td>wedding_purpose</td>\n",
       "    </tr>\n",
       "    <tr>\n",
       "      <td>9</td>\n",
       "      <td>0</td>\n",
       "      <td>2188</td>\n",
       "      <td>41</td>\n",
       "      <td>secondary education</td>\n",
       "      <td>1</td>\n",
       "      <td>married</td>\n",
       "      <td>0</td>\n",
       "      <td>M</td>\n",
       "      <td>employee</td>\n",
       "      <td>0</td>\n",
       "      <td>23108</td>\n",
       "      <td>purchase of the house for my family</td>\n",
       "      <td>paid on time</td>\n",
       "      <td>below the median</td>\n",
       "      <td>house&amp;property_purpose</td>\n",
       "    </tr>\n",
       "  </tbody>\n",
       "</table>\n",
       "</div>"
      ],
      "text/plain": [
       "   children  days_employed  dob_years            education  education_id  \\\n",
       "0         1           8437         42    bachelor's degree             0   \n",
       "1         1           4024         36  secondary education             1   \n",
       "2         0           5623         33  secondary education             1   \n",
       "3         3           4124         32  secondary education             1   \n",
       "4         0         340266         53  secondary education             1   \n",
       "5         0            926         27    bachelor's degree             0   \n",
       "6         0           2879         43    bachelor's degree             0   \n",
       "7         0            152         50  secondary education             1   \n",
       "8         2           6929         35    bachelor's degree             0   \n",
       "9         0           2188         41  secondary education             1   \n",
       "\n",
       "       family_status  family_status_id gender income_type  debt  total_income  \\\n",
       "0            married                 0      F    employee     0         40620   \n",
       "1            married                 0      F    employee     0         17932   \n",
       "2            married                 0      M    employee     0         23341   \n",
       "3            married                 0      M    employee     0         42820   \n",
       "4  civil partnership                 1      F     retiree     0         25378   \n",
       "5  civil partnership                 1      M    business     0         40922   \n",
       "6            married                 0      F    business     0         38484   \n",
       "7            married                 0      M    employee     0         21731   \n",
       "8  civil partnership                 1      F    employee     0         15337   \n",
       "9            married                 0      M    employee     0         23108   \n",
       "\n",
       "                               purpose loan_repaying      income_level  \\\n",
       "0                purchase of the house  paid on time  above the median   \n",
       "1                         car purchase  paid on time  below the median   \n",
       "2                purchase of the house  paid on time  below the median   \n",
       "3              supplementary education  paid on time  above the median   \n",
       "4                    to have a wedding  paid on time  above the median   \n",
       "5                purchase of the house  paid on time  above the median   \n",
       "6                 housing transactions  paid on time  above the median   \n",
       "7                            education  paid on time  below the median   \n",
       "8                     having a wedding  paid on time  below the median   \n",
       "9  purchase of the house for my family  paid on time  below the median   \n",
       "\n",
       "              new_purpose  \n",
       "0  house&property_purpose  \n",
       "1             car_purpose  \n",
       "2  house&property_purpose  \n",
       "3       education_purpose  \n",
       "4         wedding_purpose  \n",
       "5  house&property_purpose  \n",
       "6  house&property_purpose  \n",
       "7       education_purpose  \n",
       "8         wedding_purpose  \n",
       "9  house&property_purpose  "
      ]
     },
     "execution_count": 5,
     "metadata": {},
     "output_type": "execute_result"
    }
   ],
   "source": [
    "#Loan repaying function\n",
    "def repaying_loan(row):\n",
    "    loan = row['debt']\n",
    "    if loan == 1:\n",
    "        return 'not paid on time'\n",
    "    return 'paid on time'\n",
    "median_cs = credit_scoring['total_income'].median()\n",
    "#Income Level function\n",
    "def income_level(row):\n",
    "    income = row['total_income']\n",
    "    if income > median_cs:\n",
    "        return 'above the median'\n",
    "    elif income < median_cs:\n",
    "        return 'below the median'\n",
    "    return 'on the median'\n",
    "#Set purpose function\n",
    "def set_purpose(row):\n",
    "    purpose = row['purpose']\n",
    "    if 'car' in purpose:\n",
    "        return 'car_purpose'\n",
    "    elif 'wedding' in purpose:\n",
    "        return 'wedding_purpose'\n",
    "    elif 'education' in purpose or 'university' in purpose or 'educated' in purpose:\n",
    "        return 'education_purpose'\n",
    "    else:\n",
    "        return 'house&property_purpose'\n",
    "\n",
    "#Applying functions to the data\n",
    "credit_scoring['loan_repaying'] = credit_scoring.apply(repaying_loan,axis = 1)\n",
    "credit_scoring['income_level'] = credit_scoring.apply(income_level,axis = 1)\n",
    "credit_scoring['new_purpose'] = credit_scoring.apply(set_purpose,axis = 1)\n",
    "#And checking for done job\n",
    "credit_scoring.head(10)\n"
   ]
  },
  {
   "cell_type": "markdown",
   "metadata": {},
   "source": [
    "### Conclusion"
   ]
  },
  {
   "cell_type": "markdown",
   "metadata": {},
   "source": [
    "To categorize the data we wrote 2 function. Main purposes of categorizing data are getting more `clear data`  and `results`. Also we used `median` of `income` to categorize data. The `main goal` of using `median` is that getting more `pretty`and  `beatiful` outputs.Then we divided purposes into 4 big groups according to most appeared words(according to data we got from lemmatization)."
   ]
  },
  {
   "cell_type": "markdown",
   "metadata": {},
   "source": [
    "### Step 3. Answer these questions"
   ]
  },
  {
   "cell_type": "markdown",
   "metadata": {},
   "source": [
    "- Is there a relation between having kids and repaying a loan on time?"
   ]
  },
  {
   "cell_type": "code",
   "execution_count": 6,
   "metadata": {
    "scrolled": true
   },
   "outputs": [
    {
     "data": {
      "text/html": [
       "<div>\n",
       "<style scoped>\n",
       "    .dataframe tbody tr th:only-of-type {\n",
       "        vertical-align: middle;\n",
       "    }\n",
       "\n",
       "    .dataframe tbody tr th {\n",
       "        vertical-align: top;\n",
       "    }\n",
       "\n",
       "    .dataframe thead th {\n",
       "        text-align: right;\n",
       "    }\n",
       "</style>\n",
       "<table border=\"1\" class=\"dataframe\">\n",
       "  <thead>\n",
       "    <tr style=\"text-align: right;\">\n",
       "      <th>loan_repaying</th>\n",
       "      <th>not paid on time</th>\n",
       "      <th>paid on time</th>\n",
       "      <th>ratio</th>\n",
       "    </tr>\n",
       "    <tr>\n",
       "      <th>children</th>\n",
       "      <th></th>\n",
       "      <th></th>\n",
       "      <th></th>\n",
       "    </tr>\n",
       "  </thead>\n",
       "  <tbody>\n",
       "    <tr>\n",
       "      <td>4</td>\n",
       "      <td>4.0</td>\n",
       "      <td>37.0</td>\n",
       "      <td>0.097561</td>\n",
       "    </tr>\n",
       "    <tr>\n",
       "      <td>2</td>\n",
       "      <td>194.0</td>\n",
       "      <td>1858.0</td>\n",
       "      <td>0.094542</td>\n",
       "    </tr>\n",
       "    <tr>\n",
       "      <td>1</td>\n",
       "      <td>445.0</td>\n",
       "      <td>4411.0</td>\n",
       "      <td>0.091639</td>\n",
       "    </tr>\n",
       "    <tr>\n",
       "      <td>3</td>\n",
       "      <td>27.0</td>\n",
       "      <td>303.0</td>\n",
       "      <td>0.081818</td>\n",
       "    </tr>\n",
       "    <tr>\n",
       "      <td>0</td>\n",
       "      <td>1063.0</td>\n",
       "      <td>13044.0</td>\n",
       "      <td>0.075353</td>\n",
       "    </tr>\n",
       "    <tr>\n",
       "      <td>5</td>\n",
       "      <td>NaN</td>\n",
       "      <td>9.0</td>\n",
       "      <td>NaN</td>\n",
       "    </tr>\n",
       "  </tbody>\n",
       "</table>\n",
       "</div>"
      ],
      "text/plain": [
       "loan_repaying  not paid on time  paid on time     ratio\n",
       "children                                               \n",
       "4                           4.0          37.0  0.097561\n",
       "2                         194.0        1858.0  0.094542\n",
       "1                         445.0        4411.0  0.091639\n",
       "3                          27.0         303.0  0.081818\n",
       "0                        1063.0       13044.0  0.075353\n",
       "5                           NaN           9.0       NaN"
      ]
     },
     "execution_count": 6,
     "metadata": {},
     "output_type": "execute_result"
    }
   ],
   "source": [
    "kids_pivot = credit_scoring.pivot_table(index='children',columns='loan_repaying',values='debt',aggfunc='count')\n",
    "kids_pivot['ratio'] = kids_pivot['not paid on time'] / (kids_pivot['paid on time'] + kids_pivot['not paid on time'] )\n",
    "kids_pivot.sort_values('ratio', ascending=False)\n"
   ]
  },
  {
   "cell_type": "markdown",
   "metadata": {},
   "source": [
    "### Conclusion"
   ]
  },
  {
   "cell_type": "markdown",
   "metadata": {},
   "source": [
    "As we see above when increasing child number, `loan_repaying` percentage also increasing.In summary, we can definitily conclude that having kids causes not repaying loan at time."
   ]
  },
  {
   "cell_type": "markdown",
   "metadata": {},
   "source": [
    "#### - Is there a relation between marital status and repaying a loan on time?\n"
   ]
  },
  {
   "cell_type": "code",
   "execution_count": 7,
   "metadata": {},
   "outputs": [
    {
     "data": {
      "text/html": [
       "<div>\n",
       "<style scoped>\n",
       "    .dataframe tbody tr th:only-of-type {\n",
       "        vertical-align: middle;\n",
       "    }\n",
       "\n",
       "    .dataframe tbody tr th {\n",
       "        vertical-align: top;\n",
       "    }\n",
       "\n",
       "    .dataframe thead th {\n",
       "        text-align: right;\n",
       "    }\n",
       "</style>\n",
       "<table border=\"1\" class=\"dataframe\">\n",
       "  <thead>\n",
       "    <tr style=\"text-align: right;\">\n",
       "      <th>loan_repaying</th>\n",
       "      <th>not paid on time</th>\n",
       "      <th>paid on time</th>\n",
       "      <th>ratio</th>\n",
       "    </tr>\n",
       "    <tr>\n",
       "      <th>family_status</th>\n",
       "      <th></th>\n",
       "      <th></th>\n",
       "      <th></th>\n",
       "    </tr>\n",
       "  </thead>\n",
       "  <tbody>\n",
       "    <tr>\n",
       "      <td>unmarried</td>\n",
       "      <td>273</td>\n",
       "      <td>2528</td>\n",
       "      <td>0.097465</td>\n",
       "    </tr>\n",
       "    <tr>\n",
       "      <td>civil partnership</td>\n",
       "      <td>385</td>\n",
       "      <td>3766</td>\n",
       "      <td>0.092749</td>\n",
       "    </tr>\n",
       "    <tr>\n",
       "      <td>married</td>\n",
       "      <td>928</td>\n",
       "      <td>11367</td>\n",
       "      <td>0.075478</td>\n",
       "    </tr>\n",
       "    <tr>\n",
       "      <td>divorced</td>\n",
       "      <td>84</td>\n",
       "      <td>1109</td>\n",
       "      <td>0.070411</td>\n",
       "    </tr>\n",
       "    <tr>\n",
       "      <td>widow / widower</td>\n",
       "      <td>63</td>\n",
       "      <td>892</td>\n",
       "      <td>0.065969</td>\n",
       "    </tr>\n",
       "  </tbody>\n",
       "</table>\n",
       "</div>"
      ],
      "text/plain": [
       "loan_repaying      not paid on time  paid on time     ratio\n",
       "family_status                                              \n",
       "unmarried                       273          2528  0.097465\n",
       "civil partnership               385          3766  0.092749\n",
       "married                         928         11367  0.075478\n",
       "divorced                         84          1109  0.070411\n",
       "widow / widower                  63           892  0.065969"
      ]
     },
     "execution_count": 7,
     "metadata": {},
     "output_type": "execute_result"
    }
   ],
   "source": [
    "marital_pivot = credit_scoring.pivot_table(index = 'family_status',values='debt',columns='loan_repaying',aggfunc='count')\n",
    "marital_pivot['ratio'] = marital_pivot['not paid on time'] / (marital_pivot['not paid on time'] + marital_pivot['paid on time'])\n",
    "marital_pivot.sort_values('ratio', ascending=False)"
   ]
  },
  {
   "cell_type": "markdown",
   "metadata": {},
   "source": [
    "### Conclusion"
   ]
  },
  {
   "cell_type": "markdown",
   "metadata": {},
   "source": [
    "From calculations above we can conclude that `unmarried` people leading on not paing loan on a time. And if person `married and without partner`(widow/widower/divorced) this increases chance of repaying loan on a time."
   ]
  },
  {
   "cell_type": "markdown",
   "metadata": {},
   "source": [
    "#### - Is there a relation between income level and repaying a loan on time?"
   ]
  },
  {
   "cell_type": "code",
   "execution_count": 8,
   "metadata": {},
   "outputs": [
    {
     "data": {
      "text/html": [
       "<div>\n",
       "<style scoped>\n",
       "    .dataframe tbody tr th:only-of-type {\n",
       "        vertical-align: middle;\n",
       "    }\n",
       "\n",
       "    .dataframe tbody tr th {\n",
       "        vertical-align: top;\n",
       "    }\n",
       "\n",
       "    .dataframe thead th {\n",
       "        text-align: right;\n",
       "    }\n",
       "</style>\n",
       "<table border=\"1\" class=\"dataframe\">\n",
       "  <thead>\n",
       "    <tr style=\"text-align: right;\">\n",
       "      <th>loan_repaying</th>\n",
       "      <th>not paid on time</th>\n",
       "      <th>paid on time</th>\n",
       "      <th>ratio</th>\n",
       "    </tr>\n",
       "    <tr>\n",
       "      <th>income_level</th>\n",
       "      <th></th>\n",
       "      <th></th>\n",
       "      <th></th>\n",
       "    </tr>\n",
       "  </thead>\n",
       "  <tbody>\n",
       "    <tr>\n",
       "      <td>below the median</td>\n",
       "      <td>892.0</td>\n",
       "      <td>9805.0</td>\n",
       "      <td>0.083388</td>\n",
       "    </tr>\n",
       "    <tr>\n",
       "      <td>above the median</td>\n",
       "      <td>841.0</td>\n",
       "      <td>9856.0</td>\n",
       "      <td>0.078620</td>\n",
       "    </tr>\n",
       "    <tr>\n",
       "      <td>on the median</td>\n",
       "      <td>NaN</td>\n",
       "      <td>1.0</td>\n",
       "      <td>NaN</td>\n",
       "    </tr>\n",
       "  </tbody>\n",
       "</table>\n",
       "</div>"
      ],
      "text/plain": [
       "loan_repaying     not paid on time  paid on time     ratio\n",
       "income_level                                              \n",
       "below the median             892.0        9805.0  0.083388\n",
       "above the median             841.0        9856.0  0.078620\n",
       "on the median                  NaN           1.0       NaN"
      ]
     },
     "execution_count": 8,
     "metadata": {},
     "output_type": "execute_result"
    }
   ],
   "source": [
    "income_pivot = credit_scoring.pivot_table(index = 'income_level',values = 'debt',columns='loan_repaying',aggfunc='count')\n",
    "income_pivot['ratio'] = income_pivot['not paid on time'] / (income_pivot['not paid on time'] + income_pivot['paid on time'])\n",
    "income_pivot.sort_values('ratio',ascending=False)"
   ]
  },
  {
   "cell_type": "markdown",
   "metadata": {},
   "source": [
    "### Conclusion"
   ]
  },
  {
   "cell_type": "markdown",
   "metadata": {},
   "source": [
    "The numbers related to `'income_relation'` tells us, as higher income level, ASAP can be `potential borrower`"
   ]
  },
  {
   "cell_type": "markdown",
   "metadata": {},
   "source": [
    "#### - How do different loan purposes affect on-time repayment of the loan?"
   ]
  },
  {
   "cell_type": "code",
   "execution_count": 9,
   "metadata": {
    "scrolled": true
   },
   "outputs": [
    {
     "data": {
      "text/html": [
       "<div>\n",
       "<style scoped>\n",
       "    .dataframe tbody tr th:only-of-type {\n",
       "        vertical-align: middle;\n",
       "    }\n",
       "\n",
       "    .dataframe tbody tr th {\n",
       "        vertical-align: top;\n",
       "    }\n",
       "\n",
       "    .dataframe thead th {\n",
       "        text-align: right;\n",
       "    }\n",
       "</style>\n",
       "<table border=\"1\" class=\"dataframe\">\n",
       "  <thead>\n",
       "    <tr style=\"text-align: right;\">\n",
       "      <th>loan_repaying</th>\n",
       "      <th>not paid on time</th>\n",
       "      <th>paid on time</th>\n",
       "      <th>ratio</th>\n",
       "    </tr>\n",
       "    <tr>\n",
       "      <th>new_purpose</th>\n",
       "      <th></th>\n",
       "      <th></th>\n",
       "      <th></th>\n",
       "    </tr>\n",
       "  </thead>\n",
       "  <tbody>\n",
       "    <tr>\n",
       "      <td>car_purpose</td>\n",
       "      <td>401</td>\n",
       "      <td>3891</td>\n",
       "      <td>0.093430</td>\n",
       "    </tr>\n",
       "    <tr>\n",
       "      <td>education_purpose</td>\n",
       "      <td>369</td>\n",
       "      <td>3630</td>\n",
       "      <td>0.092273</td>\n",
       "    </tr>\n",
       "    <tr>\n",
       "      <td>wedding_purpose</td>\n",
       "      <td>183</td>\n",
       "      <td>2143</td>\n",
       "      <td>0.078676</td>\n",
       "    </tr>\n",
       "    <tr>\n",
       "      <td>house&amp;property_purpose</td>\n",
       "      <td>780</td>\n",
       "      <td>9998</td>\n",
       "      <td>0.072370</td>\n",
       "    </tr>\n",
       "  </tbody>\n",
       "</table>\n",
       "</div>"
      ],
      "text/plain": [
       "loan_repaying           not paid on time  paid on time     ratio\n",
       "new_purpose                                                     \n",
       "car_purpose                          401          3891  0.093430\n",
       "education_purpose                    369          3630  0.092273\n",
       "wedding_purpose                      183          2143  0.078676\n",
       "house&property_purpose               780          9998  0.072370"
      ]
     },
     "execution_count": 9,
     "metadata": {},
     "output_type": "execute_result"
    }
   ],
   "source": [
    "purpose_pivot = credit_scoring.pivot_table(index = 'new_purpose',values = 'debt', columns = 'loan_repaying',aggfunc = 'count')\n",
    "purpose_pivot['ratio'] = purpose_pivot['not paid on time'] / (purpose_pivot['not paid on time'] + purpose_pivot['paid on time'])\n",
    "purpose_pivot.sort_values('ratio',ascending=False)"
   ]
  },
  {
   "cell_type": "markdown",
   "metadata": {},
   "source": [
    "### Conclusion"
   ]
  },
  {
   "cell_type": "markdown",
   "metadata": {},
   "source": [
    "Concludely, in most cases `car`  and `education` purposes leading on not repaying loan on time.Other 2 purposes have less infulences than purposes `car` and `education`."
   ]
  },
  {
   "cell_type": "markdown",
   "metadata": {},
   "source": [
    "### Step4. General Conclusion"
   ]
  },
  {
   "cell_type": "markdown",
   "metadata": {},
   "source": [
    "Generally, in real world there are more reasons will affect when borrowing loan or credit. But, from the data we have analyzed we can conclude that: `'having kids'`, `'family_status'` and `'purpose'` play important roles on being a `potential borrower`.\n",
    "And `income_level` has less priority than these 3 purposes."
   ]
  },
  {
   "cell_type": "markdown",
   "metadata": {},
   "source": [
    "### Project Readiness Checklist\n",
    "\n",
    "\n",
    "Put 'x' in the completed points. Then press Shift + Enter."
   ]
  },
  {
   "cell_type": "markdown",
   "metadata": {},
   "source": [
    "- [x]  file open;\n",
    "- [x]  file examined;\n",
    "- [x]  missing values defined;\n",
    "- [x]  missing values are filled;\n",
    "- [x]  an explanation of which missing value types were detected;\n",
    "- [x]  explanation for the possible causes of missing values;\n",
    "- [x]  an explanation of how the blanks are filled;\n",
    "- [x]  replaced the real data type with an integer;\n",
    "- [x]  an explanation of which method is used to change the data type and why;\n",
    "- [x]  duplicates deleted;\n",
    "- [x]  an explanation of which method is used to find and remove duplicates;\n",
    "- [x]  description of the possible reasons for the appearance of duplicates in the data;\n",
    "- [x]  data is categorized;\n",
    "- [x]  an explanation of the principle of data categorization;\n",
    "- [x]  an answer to the question \"Is there a relation between having kids and repaying a loan on time?\";\n",
    "- [x]  an answer to the question \" Is there a relation between marital status and repaying a loan on time?\";\n",
    "- [x]   an answer to the question \" Is there a relation between income level and repaying a loan on time?\";\n",
    "- [x]  an answer to the question \" How do different loan purposes affect on-time repayment of the loan?\"\n",
    "- [x]  conclusions are present on each stage;\n",
    "- [x]  a general conclusion is made."
   ]
  }
 ],
 "metadata": {
  "kernelspec": {
   "display_name": "Python 3",
   "language": "python",
   "name": "python3"
  },
  "language_info": {
   "codemirror_mode": {
    "name": "ipython",
    "version": 3
   },
   "file_extension": ".py",
   "mimetype": "text/x-python",
   "name": "python",
   "nbconvert_exporter": "python",
   "pygments_lexer": "ipython3",
   "version": "3.8.5"
  },
  "toc": {
   "base_numbering": 1,
   "nav_menu": {},
   "number_sections": true,
   "sideBar": true,
   "skip_h1_title": true,
   "title_cell": "Table of Contents",
   "title_sidebar": "Contents",
   "toc_cell": false,
   "toc_position": {},
   "toc_section_display": true,
   "toc_window_display": false
  }
 },
 "nbformat": 4,
 "nbformat_minor": 2
}
